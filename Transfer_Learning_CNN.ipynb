{
 "cells": [
  {
   "cell_type": "markdown",
   "id": "1c710c79",
   "metadata": {
    "papermill": {
     "duration": 0.00733,
     "end_time": "2024-07-28T09:36:19.854329",
     "exception": false,
     "start_time": "2024-07-28T09:36:19.846999",
     "status": "completed"
    },
    "tags": []
   },
   "source": [
    "## **AN INTRODUCTION TO PRETRAINED MODELS AND TRANSFER LEARNING**\n",
    "\n",
    "- **Machine Learning**: Teaching computers to learn from data and make decisions without being explicitly programmed.\n",
    "- **Deep Learning**: A subset of machine learning using neural networks with many layers to learn from vast amounts of data.\n",
    "\n",
    "#### What are Pretrained Models?\n",
    "- **Pretrained Models**: Neural networks trained on large datasets (like ImageNet) that can be used for similar tasks.\n",
    "- **Benefits**: Saves time and resources, improves performance on small datasets, leverages knowledge from extensive datasets.\n",
    "\n",
    "#### Introduction to Transfer Learning\n",
    "- **Transfer Learning**: Using a pretrained model on a new, similar task. Think of it as transferring knowledge from one task to another.\n",
    "- **Types of Transfer Learning**:\n",
    "  - **Feature Extraction**: Using the pretrained model’s layers to extract features and then training a new classifier on top.\n",
    "  - **Fine-Tuning**: Training some or all layers of the pretrained model on new data to tweak the model for the new task."
   ]
  },
  {
   "cell_type": "markdown",
   "id": "b523530e",
   "metadata": {
    "papermill": {
     "duration": 0.006078,
     "end_time": "2024-07-28T09:36:19.866758",
     "exception": false,
     "start_time": "2024-07-28T09:36:19.860680",
     "status": "completed"
    },
    "tags": []
   },
   "source": [
    "### Project: Image Classification With Transfer Learning\n",
    "\n",
    "We'll use a pretrained model to classify images of cats and dogs"
   ]
  },
  {
   "cell_type": "code",
   "execution_count": 1,
   "id": "41d2854e",
   "metadata": {
    "execution": {
     "iopub.execute_input": "2024-07-28T09:36:19.880405Z",
     "iopub.status.busy": "2024-07-28T09:36:19.880125Z",
     "iopub.status.idle": "2024-07-28T09:36:35.951162Z",
     "shell.execute_reply": "2024-07-28T09:36:35.950078Z"
    },
    "papermill": {
     "duration": 16.080487,
     "end_time": "2024-07-28T09:36:35.953525",
     "exception": false,
     "start_time": "2024-07-28T09:36:19.873038",
     "status": "completed"
    },
    "tags": []
   },
   "outputs": [
    {
     "name": "stdout",
     "output_type": "stream",
     "text": [
      "Requirement already satisfied: tensorflow in /opt/conda/lib/python3.10/site-packages (2.15.0)\r\n",
      "Requirement already satisfied: keras in /opt/conda/lib/python3.10/site-packages (3.4.1)\r\n",
      "Requirement already satisfied: numpy in /opt/conda/lib/python3.10/site-packages (1.26.4)\r\n",
      "Requirement already satisfied: matplotlib in /opt/conda/lib/python3.10/site-packages (3.7.5)\r\n",
      "Requirement already satisfied: absl-py>=1.0.0 in /opt/conda/lib/python3.10/site-packages (from tensorflow) (1.4.0)\r\n",
      "Requirement already satisfied: astunparse>=1.6.0 in /opt/conda/lib/python3.10/site-packages (from tensorflow) (1.6.3)\r\n",
      "Requirement already satisfied: flatbuffers>=23.5.26 in /opt/conda/lib/python3.10/site-packages (from tensorflow) (23.5.26)\r\n",
      "Requirement already satisfied: gast!=0.5.0,!=0.5.1,!=0.5.2,>=0.2.1 in /opt/conda/lib/python3.10/site-packages (from tensorflow) (0.5.4)\r\n",
      "Requirement already satisfied: google-pasta>=0.1.1 in /opt/conda/lib/python3.10/site-packages (from tensorflow) (0.2.0)\r\n",
      "Requirement already satisfied: h5py>=2.9.0 in /opt/conda/lib/python3.10/site-packages (from tensorflow) (3.10.0)\r\n",
      "Requirement already satisfied: libclang>=13.0.0 in /opt/conda/lib/python3.10/site-packages (from tensorflow) (16.0.6)\r\n",
      "Requirement already satisfied: ml-dtypes~=0.2.0 in /opt/conda/lib/python3.10/site-packages (from tensorflow) (0.2.0)\r\n",
      "Requirement already satisfied: opt-einsum>=2.3.2 in /opt/conda/lib/python3.10/site-packages (from tensorflow) (3.3.0)\r\n",
      "Requirement already satisfied: packaging in /opt/conda/lib/python3.10/site-packages (from tensorflow) (21.3)\r\n",
      "Requirement already satisfied: protobuf!=4.21.0,!=4.21.1,!=4.21.2,!=4.21.3,!=4.21.4,!=4.21.5,<5.0.0dev,>=3.20.3 in /opt/conda/lib/python3.10/site-packages (from tensorflow) (3.20.3)\r\n",
      "Requirement already satisfied: setuptools in /opt/conda/lib/python3.10/site-packages (from tensorflow) (69.0.3)\r\n",
      "Requirement already satisfied: six>=1.12.0 in /opt/conda/lib/python3.10/site-packages (from tensorflow) (1.16.0)\r\n",
      "Requirement already satisfied: termcolor>=1.1.0 in /opt/conda/lib/python3.10/site-packages (from tensorflow) (2.4.0)\r\n",
      "Requirement already satisfied: typing-extensions>=3.6.6 in /opt/conda/lib/python3.10/site-packages (from tensorflow) (4.9.0)\r\n",
      "Requirement already satisfied: wrapt<1.15,>=1.11.0 in /opt/conda/lib/python3.10/site-packages (from tensorflow) (1.14.1)\r\n",
      "Requirement already satisfied: tensorflow-io-gcs-filesystem>=0.23.1 in /opt/conda/lib/python3.10/site-packages (from tensorflow) (0.35.0)\r\n",
      "Requirement already satisfied: grpcio<2.0,>=1.24.3 in /opt/conda/lib/python3.10/site-packages (from tensorflow) (1.60.0)\r\n",
      "Requirement already satisfied: tensorboard<2.16,>=2.15 in /opt/conda/lib/python3.10/site-packages (from tensorflow) (2.15.1)\r\n",
      "Requirement already satisfied: tensorflow-estimator<2.16,>=2.15.0 in /opt/conda/lib/python3.10/site-packages (from tensorflow) (2.15.0)\r\n",
      "Collecting keras\r\n",
      "  Downloading keras-2.15.0-py3-none-any.whl.metadata (2.4 kB)\r\n",
      "Requirement already satisfied: contourpy>=1.0.1 in /opt/conda/lib/python3.10/site-packages (from matplotlib) (1.2.0)\r\n",
      "Requirement already satisfied: cycler>=0.10 in /opt/conda/lib/python3.10/site-packages (from matplotlib) (0.12.1)\r\n",
      "Requirement already satisfied: fonttools>=4.22.0 in /opt/conda/lib/python3.10/site-packages (from matplotlib) (4.47.0)\r\n",
      "Requirement already satisfied: kiwisolver>=1.0.1 in /opt/conda/lib/python3.10/site-packages (from matplotlib) (1.4.5)\r\n",
      "Requirement already satisfied: pillow>=6.2.0 in /opt/conda/lib/python3.10/site-packages (from matplotlib) (9.5.0)\r\n",
      "Requirement already satisfied: pyparsing>=2.3.1 in /opt/conda/lib/python3.10/site-packages (from matplotlib) (3.1.1)\r\n",
      "Requirement already satisfied: python-dateutil>=2.7 in /opt/conda/lib/python3.10/site-packages (from matplotlib) (2.9.0.post0)\r\n",
      "Requirement already satisfied: wheel<1.0,>=0.23.0 in /opt/conda/lib/python3.10/site-packages (from astunparse>=1.6.0->tensorflow) (0.42.0)\r\n",
      "Requirement already satisfied: google-auth<3,>=1.6.3 in /opt/conda/lib/python3.10/site-packages (from tensorboard<2.16,>=2.15->tensorflow) (2.26.1)\r\n",
      "Requirement already satisfied: google-auth-oauthlib<2,>=0.5 in /opt/conda/lib/python3.10/site-packages (from tensorboard<2.16,>=2.15->tensorflow) (1.2.0)\r\n",
      "Requirement already satisfied: markdown>=2.6.8 in /opt/conda/lib/python3.10/site-packages (from tensorboard<2.16,>=2.15->tensorflow) (3.5.2)\r\n",
      "Requirement already satisfied: requests<3,>=2.21.0 in /opt/conda/lib/python3.10/site-packages (from tensorboard<2.16,>=2.15->tensorflow) (2.32.3)\r\n",
      "Requirement already satisfied: tensorboard-data-server<0.8.0,>=0.7.0 in /opt/conda/lib/python3.10/site-packages (from tensorboard<2.16,>=2.15->tensorflow) (0.7.2)\r\n",
      "Requirement already satisfied: werkzeug>=1.0.1 in /opt/conda/lib/python3.10/site-packages (from tensorboard<2.16,>=2.15->tensorflow) (3.0.3)\r\n",
      "Requirement already satisfied: cachetools<6.0,>=2.0.0 in /opt/conda/lib/python3.10/site-packages (from google-auth<3,>=1.6.3->tensorboard<2.16,>=2.15->tensorflow) (4.2.4)\r\n",
      "Requirement already satisfied: pyasn1-modules>=0.2.1 in /opt/conda/lib/python3.10/site-packages (from google-auth<3,>=1.6.3->tensorboard<2.16,>=2.15->tensorflow) (0.3.0)\r\n",
      "Requirement already satisfied: rsa<5,>=3.1.4 in /opt/conda/lib/python3.10/site-packages (from google-auth<3,>=1.6.3->tensorboard<2.16,>=2.15->tensorflow) (4.9)\r\n",
      "Requirement already satisfied: requests-oauthlib>=0.7.0 in /opt/conda/lib/python3.10/site-packages (from google-auth-oauthlib<2,>=0.5->tensorboard<2.16,>=2.15->tensorflow) (1.3.1)\r\n",
      "Requirement already satisfied: charset-normalizer<4,>=2 in /opt/conda/lib/python3.10/site-packages (from requests<3,>=2.21.0->tensorboard<2.16,>=2.15->tensorflow) (3.3.2)\r\n",
      "Requirement already satisfied: idna<4,>=2.5 in /opt/conda/lib/python3.10/site-packages (from requests<3,>=2.21.0->tensorboard<2.16,>=2.15->tensorflow) (3.6)\r\n",
      "Requirement already satisfied: urllib3<3,>=1.21.1 in /opt/conda/lib/python3.10/site-packages (from requests<3,>=2.21.0->tensorboard<2.16,>=2.15->tensorflow) (1.26.18)\r\n",
      "Requirement already satisfied: certifi>=2017.4.17 in /opt/conda/lib/python3.10/site-packages (from requests<3,>=2.21.0->tensorboard<2.16,>=2.15->tensorflow) (2024.7.4)\r\n",
      "Requirement already satisfied: MarkupSafe>=2.1.1 in /opt/conda/lib/python3.10/site-packages (from werkzeug>=1.0.1->tensorboard<2.16,>=2.15->tensorflow) (2.1.3)\r\n",
      "Requirement already satisfied: pyasn1<0.6.0,>=0.4.6 in /opt/conda/lib/python3.10/site-packages (from pyasn1-modules>=0.2.1->google-auth<3,>=1.6.3->tensorboard<2.16,>=2.15->tensorflow) (0.5.1)\r\n",
      "Requirement already satisfied: oauthlib>=3.0.0 in /opt/conda/lib/python3.10/site-packages (from requests-oauthlib>=0.7.0->google-auth-oauthlib<2,>=0.5->tensorboard<2.16,>=2.15->tensorflow) (3.2.2)\r\n",
      "Downloading keras-2.15.0-py3-none-any.whl (1.7 MB)\r\n",
      "\u001b[2K   \u001b[90m━━━━━━━━━━━━━━━━━━━━━━━━━━━━━━━━━━━━━━━━\u001b[0m \u001b[32m1.7/1.7 MB\u001b[0m \u001b[31m7.5 MB/s\u001b[0m eta \u001b[36m0:00:00\u001b[0m\r\n",
      "\u001b[?25hInstalling collected packages: keras\r\n",
      "  Attempting uninstall: keras\r\n",
      "    Found existing installation: keras 3.4.1\r\n",
      "    Uninstalling keras-3.4.1:\r\n",
      "      Successfully uninstalled keras-3.4.1\r\n",
      "\u001b[31mERROR: pip's dependency resolver does not currently take into account all the packages that are installed. This behaviour is the source of the following dependency conflicts.\r\n",
      "tensorflow-decision-forests 1.8.1 requires wurlitzer, which is not installed.\u001b[0m\u001b[31m\r\n",
      "\u001b[0mSuccessfully installed keras-2.15.0\r\n"
     ]
    }
   ],
   "source": [
    "# Install necessary libraries\n",
    "!pip install tensorflow keras numpy matplotlib"
   ]
  },
  {
   "cell_type": "code",
   "execution_count": 2,
   "id": "3bcc6b7d",
   "metadata": {
    "execution": {
     "iopub.execute_input": "2024-07-28T09:36:35.971787Z",
     "iopub.status.busy": "2024-07-28T09:36:35.971495Z",
     "iopub.status.idle": "2024-07-28T09:36:47.961647Z",
     "shell.execute_reply": "2024-07-28T09:36:47.960872Z"
    },
    "papermill": {
     "duration": 12.001556,
     "end_time": "2024-07-28T09:36:47.963955",
     "exception": false,
     "start_time": "2024-07-28T09:36:35.962399",
     "status": "completed"
    },
    "tags": []
   },
   "outputs": [
    {
     "name": "stderr",
     "output_type": "stream",
     "text": [
      "2024-07-28 09:36:37.657529: E external/local_xla/xla/stream_executor/cuda/cuda_dnn.cc:9261] Unable to register cuDNN factory: Attempting to register factory for plugin cuDNN when one has already been registered\n",
      "2024-07-28 09:36:37.657647: E external/local_xla/xla/stream_executor/cuda/cuda_fft.cc:607] Unable to register cuFFT factory: Attempting to register factory for plugin cuFFT when one has already been registered\n",
      "2024-07-28 09:36:37.783666: E external/local_xla/xla/stream_executor/cuda/cuda_blas.cc:1515] Unable to register cuBLAS factory: Attempting to register factory for plugin cuBLAS when one has already been registered\n"
     ]
    }
   ],
   "source": [
    "# importing libraries\n",
    "import tensorflow as tf\n",
    "from tensorflow.keras.applications import VGG16 # pretrained model for image classification\n",
    "from tensorflow.keras.models import Model # model method for creating a model( we extend the already trained model by adding our own layers)\n",
    "from tensorflow.keras.layers import Dense, Flatten \n",
    "from tensorflow.keras.preprocessing.image import ImageDataGenerator\n",
    "import matplotlib.pyplot as plt\n",
    "import numpy as np\n",
    "\n",
    "# for base 64 images used for prediction\n",
    "import base64\n",
    "from io import BytesIO\n",
    "from PIL import Image"
   ]
  },
  {
   "cell_type": "markdown",
   "id": "4cdd7e55",
   "metadata": {
    "papermill": {
     "duration": 0.007783,
     "end_time": "2024-07-28T09:36:47.980202",
     "exception": false,
     "start_time": "2024-07-28T09:36:47.972419",
     "status": "completed"
    },
    "tags": []
   },
   "source": [
    "**Load and Preprocess Data**\n",
    "\n",
    "**ImageDataGenerator**: Helps in loading images and applying real-time data augmentation."
   ]
  },
  {
   "cell_type": "code",
   "execution_count": 3,
   "id": "737b262e",
   "metadata": {
    "execution": {
     "iopub.execute_input": "2024-07-28T09:36:47.997796Z",
     "iopub.status.busy": "2024-07-28T09:36:47.996835Z",
     "iopub.status.idle": "2024-07-28T09:36:48.001329Z",
     "shell.execute_reply": "2024-07-28T09:36:48.000487Z"
    },
    "papermill": {
     "duration": 0.015138,
     "end_time": "2024-07-28T09:36:48.003201",
     "exception": false,
     "start_time": "2024-07-28T09:36:47.988063",
     "status": "completed"
    },
    "tags": []
   },
   "outputs": [],
   "source": [
    "# Define directories for your dataset (assuming dataset is in 'input' directory on Kaggle)\n",
    "train_dir = '../input/cat-and-dog/training_set/training_set'\n",
    "validation_dir = '../input/cat-and-dog/test_set/test_set'\n"
   ]
  },
  {
   "cell_type": "code",
   "execution_count": 4,
   "id": "5f008ed0",
   "metadata": {
    "execution": {
     "iopub.execute_input": "2024-07-28T09:36:48.019753Z",
     "iopub.status.busy": "2024-07-28T09:36:48.019476Z",
     "iopub.status.idle": "2024-07-28T09:36:48.062813Z",
     "shell.execute_reply": "2024-07-28T09:36:48.061832Z"
    },
    "papermill": {
     "duration": 0.053693,
     "end_time": "2024-07-28T09:36:48.064658",
     "exception": false,
     "start_time": "2024-07-28T09:36:48.010965",
     "status": "completed"
    },
    "tags": []
   },
   "outputs": [
    {
     "name": "stdout",
     "output_type": "stream",
     "text": [
      "Contents of the base directory:\n",
      "['test_set', 'training_set']\n",
      "\n",
      "Contents of the training_set directory:\n",
      "['training_set']\n",
      "\n",
      "Contents of the test_set directory:\n",
      "['test_set']\n"
     ]
    }
   ],
   "source": [
    "# inspecting the dataset\n",
    "import os\n",
    "\n",
    "# List the contents of the base dataset directory\n",
    "base_dir = '../input/cat-and-dog'\n",
    "print('Contents of the base directory:')\n",
    "print(os.listdir(base_dir))\n",
    "\n",
    "# List the contents of the training and validation directories\n",
    "print('\\nContents of the training_set directory:')\n",
    "print(os.listdir(os.path.join(base_dir, 'training_set')))\n",
    "\n",
    "print('\\nContents of the test_set directory:')\n",
    "print(os.listdir(os.path.join(base_dir, 'test_set')))\n"
   ]
  },
  {
   "cell_type": "code",
   "execution_count": 5,
   "id": "b697f2ea",
   "metadata": {
    "execution": {
     "iopub.execute_input": "2024-07-28T09:36:48.081598Z",
     "iopub.status.busy": "2024-07-28T09:36:48.081332Z",
     "iopub.status.idle": "2024-07-28T09:36:49.303040Z",
     "shell.execute_reply": "2024-07-28T09:36:49.302185Z"
    },
    "papermill": {
     "duration": 1.232376,
     "end_time": "2024-07-28T09:36:49.305028",
     "exception": false,
     "start_time": "2024-07-28T09:36:48.072652",
     "status": "completed"
    },
    "tags": []
   },
   "outputs": [
    {
     "name": "stdout",
     "output_type": "stream",
     "text": [
      "Total training cat images: 4001\n",
      "Total training dog images: 4006\n",
      "Total validation cat images: 1012\n",
      "Total validation dog images: 1013\n"
     ]
    }
   ],
   "source": [
    "# inspecting the dataset\n",
    "import os\n",
    "\n",
    "base_dir = '../input/cat-and-dog' \n",
    "\n",
    "train_cats_dir = os.path.join(train_dir, 'cats')\n",
    "train_dogs_dir = os.path.join(train_dir, 'dogs')\n",
    "validation_cats_dir = os.path.join(validation_dir, 'cats')\n",
    "validation_dogs_dir = os.path.join(validation_dir, 'dogs')\n",
    "\n",
    "# List the number of images in each directory\n",
    "print('Total training cat images:', len(os.listdir(train_cats_dir)))\n",
    "print('Total training dog images:', len(os.listdir(train_dogs_dir)))\n",
    "print('Total validation cat images:', len(os.listdir(validation_cats_dir)))\n",
    "print('Total validation dog images:', len(os.listdir(validation_dogs_dir)))"
   ]
  },
  {
   "cell_type": "markdown",
   "id": "34441c54",
   "metadata": {
    "papermill": {
     "duration": 0.008018,
     "end_time": "2024-07-28T09:36:49.322494",
     "exception": false,
     "start_time": "2024-07-28T09:36:49.314476",
     "status": "completed"
    },
    "tags": []
   },
   "source": [
    "Create data generators for training and validation."
   ]
  },
  {
   "cell_type": "code",
   "execution_count": 6,
   "id": "ba794cb8",
   "metadata": {
    "execution": {
     "iopub.execute_input": "2024-07-28T09:36:49.340340Z",
     "iopub.status.busy": "2024-07-28T09:36:49.340008Z",
     "iopub.status.idle": "2024-07-28T09:36:49.345127Z",
     "shell.execute_reply": "2024-07-28T09:36:49.344425Z"
    },
    "papermill": {
     "duration": 0.016258,
     "end_time": "2024-07-28T09:36:49.347027",
     "exception": false,
     "start_time": "2024-07-28T09:36:49.330769",
     "status": "completed"
    },
    "tags": []
   },
   "outputs": [],
   "source": [
    "# Data augmentation and preprocessing\n",
    "train_datagen = ImageDataGenerator(\n",
    "    rescale=1./255,  # Normalize the image pixels\n",
    "    rotation_range=20,  # Rotate images by up to 20 degrees\n",
    "    width_shift_range=0.2,  # Shift images horizontally by up to 20%\n",
    "    height_shift_range=0.2,  # Shift images vertically by up to 20%\n",
    "    shear_range=0.2,  # Shear transformations\n",
    "    zoom_range=0.2,  # Zoom in or out by up to 20%\n",
    "    horizontal_flip=True  # Flip images horizontally\n",
    ")\n",
    "\n",
    "validation_datagen = ImageDataGenerator(rescale=1./255)"
   ]
  },
  {
   "cell_type": "markdown",
   "id": "585e697e",
   "metadata": {
    "papermill": {
     "duration": 0.00812,
     "end_time": "2024-07-28T09:36:49.363532",
     "exception": false,
     "start_time": "2024-07-28T09:36:49.355412",
     "status": "completed"
    },
    "tags": []
   },
   "source": [
    "\n",
    "\n",
    "### Why data augmentation and preprocessing. What does the code hitherto mean?\n",
    "\n",
    "Data augmentation is the process of **artificially generating new data** from existing data, primarily to train new machine learning (ML) models.\n",
    "\n",
    "1. **`train_datagen = ImageDataGenerator(`**:\n",
    "   - This line initializes an `ImageDataGenerator` instance for the training dataset. `ImageDataGenerator` is used to generate batches of tensor image data with real-time data augmentation.\n",
    "\n",
    "\n",
    "2. **`rescale=1./255`**:\n",
    "   - **Explanation**: This normalizes the image pixel values by scaling them down from the range [0, 255] to [0, 1]. Each pixel value is divided by 255.\n",
    "   - **Why**: Normalization is essential because it helps the neural network to converge faster and achieve better performance by ensuring that the input data has a uniform scale.\n",
    "\n",
    "\n",
    "3. **`rotation_range=20`**:\n",
    "   - **Explanation**: This randomly rotates the images by up to 20 degrees.\n",
    "   - **Why**: Rotation augmentation helps the model become invariant to the orientation of the objects in the image. This means the model can recognize the object regardless of its rotation.\n",
    "\n",
    "\n",
    "4. **`width_shift_range=0.2`**:\n",
    "   - **Explanation**: This shifts the images horizontally (left or right) by up to 20% of the image width.\n",
    "   - **Why**: Horizontal shifting helps the model learn to recognize objects even if they are not centered in the image, making the model more robust to variations in object placement.\n",
    "   \n",
    "\n",
    "5. **`height_shift_range=0.2`**:\n",
    "   - **Explanation**: This shifts the images vertically (up or down) by up to 20% of the image height.\n",
    "   - **Why**: Vertical shifting, like horizontal shifting, helps the model become robust to variations in object placement.\n",
    "\n",
    "\n",
    "6. **`shear_range=0.2`**:\n",
    "   - **Explanation**: This applies a shear transformation to the images, which means the images are slanted or skewed.\n",
    "   - **Why**: Shear transformation can help the model recognize objects even if they appear tilted or deformed, improving its generalization ability.\n",
    "\n",
    "\n",
    "7. **`zoom_range=0.2`**:\n",
    "   - **Explanation**: This zooms in or out on the images by up to 20%.\n",
    "   - **Why**: Zoom augmentation helps the model recognize objects at different scales, making the model more robust to size variations.\n",
    "\n",
    "\n",
    "8. **`horizontal_flip=True`**:\n",
    "   - **Explanation**: This randomly flips the images horizontally.\n",
    "   - **Why**: Horizontal flipping helps the model recognize objects regardless of their left-right orientation, which is useful for objects that can appear in either direction (e.g., animals facing left or right).\n",
    "   \n",
    "\n",
    "9. **`validation_datagen = ImageDataGenerator(rescale=1./255)`**:\n",
    "   - **Explanation**: This initializes an `ImageDataGenerator` instance for the validation dataset with only normalization.\n",
    "   - **Why**: For the validation dataset, we typically do not apply data augmentation because we want to evaluate the model on unaltered data. Normalization is still applied to ensure that the input scale matches that of the training data.\n",
    "\n",
    "- **Training Data Augmentation**: The various transformations (rotation, shift, shear, zoom, flip) help create a more diverse set of training images. This prevents overfitting and improves the model's ability to generalize to new, unseen images.\n",
    "- **Normalization**: Ensures that the pixel values are on a uniform scale, which is crucial for the convergence and performance of the neural network.\n",
    "- **Validation Data**: Only normalized, not augmented, to provide a realistic evaluation of the model's performance on new, unaltertered data."
   ]
  },
  {
   "cell_type": "code",
   "execution_count": 7,
   "id": "12438a1c",
   "metadata": {
    "execution": {
     "iopub.execute_input": "2024-07-28T09:36:49.381553Z",
     "iopub.status.busy": "2024-07-28T09:36:49.381245Z",
     "iopub.status.idle": "2024-07-28T09:36:54.751676Z",
     "shell.execute_reply": "2024-07-28T09:36:54.750772Z"
    },
    "papermill": {
     "duration": 5.381814,
     "end_time": "2024-07-28T09:36:54.753747",
     "exception": false,
     "start_time": "2024-07-28T09:36:49.371933",
     "status": "completed"
    },
    "tags": []
   },
   "outputs": [
    {
     "name": "stdout",
     "output_type": "stream",
     "text": [
      "Found 8005 images belonging to 2 classes.\n"
     ]
    }
   ],
   "source": [
    "# Create data generators\n",
    "train_generator = train_datagen.flow_from_directory(\n",
    "    train_dir,\n",
    "    target_size=(150, 150),\n",
    "    batch_size=32,\n",
    "    class_mode='binary'  # Binary classification (cat or dog)\n",
    ")"
   ]
  },
  {
   "cell_type": "code",
   "execution_count": 8,
   "id": "5c30a132",
   "metadata": {
    "execution": {
     "iopub.execute_input": "2024-07-28T09:36:54.772420Z",
     "iopub.status.busy": "2024-07-28T09:36:54.771924Z",
     "iopub.status.idle": "2024-07-28T09:36:54.877317Z",
     "shell.execute_reply": "2024-07-28T09:36:54.876397Z"
    },
    "papermill": {
     "duration": 0.116782,
     "end_time": "2024-07-28T09:36:54.879309",
     "exception": false,
     "start_time": "2024-07-28T09:36:54.762527",
     "status": "completed"
    },
    "tags": []
   },
   "outputs": [
    {
     "name": "stdout",
     "output_type": "stream",
     "text": [
      "Found 2023 images belonging to 2 classes.\n"
     ]
    }
   ],
   "source": [
    "validation_generator = validation_datagen.flow_from_directory(\n",
    "    validation_dir,  # The path to the directory containing the validation images.\n",
    "    target_size=(150, 150), # Resize all images to 150x150 pixels.\n",
    "    batch_size=32,# Number of images to return in each batch.\n",
    "    class_mode='binary'  # Type of classification. 'binary' indicates binary classification (cats vs dogs).\n",
    ")"
   ]
  },
  {
   "cell_type": "markdown",
   "id": "63e57a59",
   "metadata": {
    "papermill": {
     "duration": 0.008584,
     "end_time": "2024-07-28T09:36:54.896924",
     "exception": false,
     "start_time": "2024-07-28T09:36:54.888340",
     "status": "completed"
    },
    "tags": []
   },
   "source": [
    "**Load the Pretrained Model**\n",
    "\n",
    "**VGG16**: A popular pretrained model for image classification."
   ]
  },
  {
   "cell_type": "code",
   "execution_count": 9,
   "id": "eea46631",
   "metadata": {
    "execution": {
     "iopub.execute_input": "2024-07-28T09:36:54.914868Z",
     "iopub.status.busy": "2024-07-28T09:36:54.914624Z",
     "iopub.status.idle": "2024-07-28T09:36:56.493931Z",
     "shell.execute_reply": "2024-07-28T09:36:56.493114Z"
    },
    "papermill": {
     "duration": 1.590959,
     "end_time": "2024-07-28T09:36:56.496327",
     "exception": false,
     "start_time": "2024-07-28T09:36:54.905368",
     "status": "completed"
    },
    "tags": []
   },
   "outputs": [
    {
     "name": "stdout",
     "output_type": "stream",
     "text": [
      "Downloading data from https://storage.googleapis.com/tensorflow/keras-applications/vgg16/vgg16_weights_tf_dim_ordering_tf_kernels_notop.h5\n",
      "58889256/58889256 [==============================] - 0s 0us/step\n"
     ]
    }
   ],
   "source": [
    "# Load the VGG16 model without the top fully connected layers\n",
    "base_model = VGG16(weights='imagenet', include_top=False, input_shape=(150, 150, 3))\n",
    "\n",
    "# Freeze the base model layers to prevent them from being trained\n",
    "for layer in base_model.layers:\n",
    "    layer.trainable = False"
   ]
  },
  {
   "cell_type": "markdown",
   "id": "bf30f704",
   "metadata": {
    "papermill": {
     "duration": 0.00897,
     "end_time": "2024-07-28T09:36:56.515131",
     "exception": false,
     "start_time": "2024-07-28T09:36:56.506161",
     "status": "completed"
    },
    "tags": []
   },
   "source": [
    "**Build and Compile the Model**\n",
    "\n",
    "**Custom Layers**: Add our own layers on top of the pretrained base."
   ]
  },
  {
   "cell_type": "code",
   "execution_count": 10,
   "id": "3d9f914d",
   "metadata": {
    "execution": {
     "iopub.execute_input": "2024-07-28T09:36:56.534593Z",
     "iopub.status.busy": "2024-07-28T09:36:56.534320Z",
     "iopub.status.idle": "2024-07-28T09:36:56.588790Z",
     "shell.execute_reply": "2024-07-28T09:36:56.587928Z"
    },
    "papermill": {
     "duration": 0.066541,
     "end_time": "2024-07-28T09:36:56.590771",
     "exception": false,
     "start_time": "2024-07-28T09:36:56.524230",
     "status": "completed"
    },
    "tags": []
   },
   "outputs": [],
   "source": [
    "# Add custom layers on top of the pretrained model\n",
    "x = base_model.output\n",
    "x = Flatten()(x)  # Flatten the output of the convolutional base. Prepares data for the fully connected layer\n",
    "\n",
    "x = Dense(512, activation='relu')(x)  # Add a fully connected layer with 512 units and ReLU activation\n",
    "predictions = Dense(1, activation='sigmoid')(x)  # Output layer with a single unit (binary classification) and sigmoid activation\n",
    "\n",
    "# Combine the base model and the custom layers into a new model\n",
    "model = Model(inputs=base_model.input, outputs=predictions)\n",
    "\n",
    "# Compile the model with Adam optimizer and binary cross-entropy loss\n",
    "model.compile(optimizer='adam', loss='binary_crossentropy', metrics=['accuracy'])"
   ]
  },
  {
   "cell_type": "markdown",
   "id": "9127307c",
   "metadata": {
    "papermill": {
     "duration": 0.008863,
     "end_time": "2024-07-28T09:36:56.608695",
     "exception": false,
     "start_time": "2024-07-28T09:36:56.599832",
     "status": "completed"
    },
    "tags": []
   },
   "source": [
    "### Why Flatten the output of conv layers\n",
    "\n",
    "**Transition to Dense Layers:**\n",
    "\n",
    "The output of the convolutional layers is typically a **3D tensor (height, width, depth)** which contains spatial information extracted by the convolutional filters.\n",
    "**Dense** (fully connected) layers, however, require 1D input (a flat vector). Flattening transforms the 3D tensor into a 1D vector, making it suitable for input to the dense layers.\n",
    "\n",
    "\n",
    "**Connecting Local Features to Global Information:**\n",
    "\n",
    "Convolutional layers are excellent at detecting **local features** like edges, textures, and patterns.\n",
    "Flattening followed by dense layers helps in combining these local features into **global information**, enabling the network to make final predictions based on the entire image.\n",
    "\n",
    "\n",
    "**Preserving Feature Maps:**\n",
    "\n",
    "When you flatten the feature maps (output of the convolutional base), you preserve all the information learned by the convolutional filters.\n",
    "Each neuron in the first dense layer receives input from all the feature maps, allowing it to consider a combination of features for making predictions.\n",
    "\n",
    "### Structure of a simple CNN\n",
    "**Convolutional Layers:**\n",
    "\n",
    "-  Extract spatial features and detect patterns like edges, textures, etc.\n",
    "\n",
    "\n",
    "**Pooling Layers:**\n",
    "\n",
    "- Reduce dimensionality and preserve important spatial features.\n",
    "\n",
    "\n",
    "**Fully Connected Layers:**\n",
    "\n",
    "- Flatten the feature maps and transform them into a single feature vector.\n",
    "- Apply weights and biases to capture non-linear relationships.\n",
    "- Aggregate features for final classification."
   ]
  },
  {
   "cell_type": "markdown",
   "id": "fd9d9e20",
   "metadata": {
    "papermill": {
     "duration": 0.008848,
     "end_time": "2024-07-28T09:36:56.626858",
     "exception": false,
     "start_time": "2024-07-28T09:36:56.618010",
     "status": "completed"
    },
    "tags": []
   },
   "source": [
    "**Train the Model**"
   ]
  },
  {
   "cell_type": "code",
   "execution_count": 11,
   "id": "2326b918",
   "metadata": {
    "execution": {
     "iopub.execute_input": "2024-07-28T09:36:56.646030Z",
     "iopub.status.busy": "2024-07-28T09:36:56.645776Z",
     "iopub.status.idle": "2024-07-28T09:47:32.026727Z",
     "shell.execute_reply": "2024-07-28T09:47:32.025721Z"
    },
    "papermill": {
     "duration": 635.392887,
     "end_time": "2024-07-28T09:47:32.028790",
     "exception": false,
     "start_time": "2024-07-28T09:36:56.635903",
     "status": "completed"
    },
    "tags": []
   },
   "outputs": [
    {
     "name": "stdout",
     "output_type": "stream",
     "text": [
      "Epoch 1/10\n"
     ]
    },
    {
     "name": "stderr",
     "output_type": "stream",
     "text": [
      "WARNING: All log messages before absl::InitializeLog() is called are written to STDERR\n",
      "I0000 00:00:1722159424.888226      93 device_compiler.h:186] Compiled cluster using XLA!  This line is logged at most once for the lifetime of the process.\n"
     ]
    },
    {
     "name": "stdout",
     "output_type": "stream",
     "text": [
      "250/250 [==============================] - 104s 386ms/step - loss: 0.4421 - accuracy: 0.8091 - val_loss: 0.2958 - val_accuracy: 0.8705\n",
      "Epoch 2/10\n",
      "250/250 [==============================] - 59s 236ms/step - loss: 0.3314 - accuracy: 0.8510 - val_loss: 0.2733 - val_accuracy: 0.8805\n",
      "Epoch 3/10\n",
      "250/250 [==============================] - 59s 237ms/step - loss: 0.3145 - accuracy: 0.8595 - val_loss: 0.2713 - val_accuracy: 0.8834\n",
      "Epoch 4/10\n",
      "250/250 [==============================] - 58s 233ms/step - loss: 0.2927 - accuracy: 0.8707 - val_loss: 0.2345 - val_accuracy: 0.8968\n",
      "Epoch 5/10\n",
      "250/250 [==============================] - 59s 234ms/step - loss: 0.2801 - accuracy: 0.8765 - val_loss: 0.2477 - val_accuracy: 0.8914\n",
      "Epoch 6/10\n",
      "250/250 [==============================] - 58s 233ms/step - loss: 0.2752 - accuracy: 0.8811 - val_loss: 0.2333 - val_accuracy: 0.9008\n",
      "Epoch 7/10\n",
      "250/250 [==============================] - 61s 242ms/step - loss: 0.2695 - accuracy: 0.8792 - val_loss: 0.2221 - val_accuracy: 0.9102\n",
      "Epoch 8/10\n",
      "250/250 [==============================] - 59s 235ms/step - loss: 0.2723 - accuracy: 0.8785 - val_loss: 0.2211 - val_accuracy: 0.9058\n",
      "Epoch 9/10\n",
      "250/250 [==============================] - 59s 236ms/step - loss: 0.2558 - accuracy: 0.8877 - val_loss: 0.2465 - val_accuracy: 0.8993\n",
      "Epoch 10/10\n",
      "250/250 [==============================] - 59s 236ms/step - loss: 0.2602 - accuracy: 0.8860 - val_loss: 0.2263 - val_accuracy: 0.9033\n"
     ]
    }
   ],
   "source": [
    "# Train the model using the training data generator\n",
    "history = model.fit(\n",
    "    train_generator,\n",
    "    steps_per_epoch=train_generator.samples // train_generator.batch_size,  # epoch here is a complete iteration through the dataset. \n",
    "    #  No of epochs determine number of iterations through the dataset\n",
    "    # We put the data in batches so epoch will the no of times the model goes through each batch\n",
    "    \n",
    "    validation_data=validation_generator,\n",
    "    validation_steps=validation_generator.samples // validation_generator.batch_size,\n",
    "    epochs=10  # Train for 10 epochs( run the batches 10 times each)\n",
    ")"
   ]
  },
  {
   "cell_type": "markdown",
   "id": "6baa6b4c",
   "metadata": {
    "papermill": {
     "duration": 0.206177,
     "end_time": "2024-07-28T09:47:32.445133",
     "exception": false,
     "start_time": "2024-07-28T09:47:32.238956",
     "status": "completed"
    },
    "tags": []
   },
   "source": [
    "**Evaluate the Model**\n",
    "\n",
    "**Plot Training History**: Visualize accuracy and loss over epochs."
   ]
  },
  {
   "cell_type": "code",
   "execution_count": 12,
   "id": "aadf5535",
   "metadata": {
    "execution": {
     "iopub.execute_input": "2024-07-28T09:47:32.860180Z",
     "iopub.status.busy": "2024-07-28T09:47:32.859533Z",
     "iopub.status.idle": "2024-07-28T09:47:33.315787Z",
     "shell.execute_reply": "2024-07-28T09:47:33.314940Z"
    },
    "papermill": {
     "duration": 0.665118,
     "end_time": "2024-07-28T09:47:33.317877",
     "exception": false,
     "start_time": "2024-07-28T09:47:32.652759",
     "status": "completed"
    },
    "tags": []
   },
   "outputs": [
    {
     "data": {
      "image/png": "[encoded data removed]",
      "text/plain": [
       "<Figure size 1200x400 with 2 Axes>"
      ]
     },
     "metadata": {},
     "output_type": "display_data"
    }
   ],
   "source": [
    "# Plot training & validation accuracy values\n",
    "plt.figure(figsize=(12, 4))\n",
    "\n",
    "plt.subplot(1, 2, 1)\n",
    "plt.plot(history.history['accuracy'], label='Train Accuracy')\n",
    "plt.plot(history.history['val_accuracy'], label='Validation Accuracy')\n",
    "plt.title('Model Accuracy')\n",
    "plt.ylabel('Accuracy')\n",
    "plt.xlabel('Epoch')\n",
    "plt.legend(loc='upper left')\n",
    "\n",
    "plt.subplot(1, 2, 2)\n",
    "plt.plot(history.history['loss'], label='Train Loss')\n",
    "plt.plot(history.history['val_loss'], label='Validation Loss')\n",
    "plt.title('Model Loss')\n",
    "plt.ylabel('Loss')\n",
    "plt.xlabel('Epoch')\n",
    "plt.legend(loc='upper left')\n",
    "\n",
    "plt.show()"
   ]
  },
  {
   "cell_type": "markdown",
   "id": "37a671df",
   "metadata": {
    "papermill": {
     "duration": 0.218755,
     "end_time": "2024-07-28T09:47:33.747610",
     "exception": false,
     "start_time": "2024-07-28T09:47:33.528855",
     "status": "completed"
    },
    "tags": []
   },
   "source": [
    " **Make Predictions**\n",
    " \n",
    "**Test on New Images**: See how well the model performs on new data."
   ]
  },
  {
   "cell_type": "code",
   "execution_count": 13,
   "id": "55c67934",
   "metadata": {
    "execution": {
     "iopub.execute_input": "2024-07-28T09:47:34.220959Z",
     "iopub.status.busy": "2024-07-28T09:47:34.219833Z",
     "iopub.status.idle": "2024-07-28T09:47:35.715437Z",
     "shell.execute_reply": "2024-07-28T09:47:35.714343Z"
    },
    "papermill": {
     "duration": 1.764281,
     "end_time": "2024-07-28T09:47:35.717301",
     "exception": false,
     "start_time": "2024-07-28T09:47:33.953020",
     "status": "completed"
    },
    "tags": []
   },
   "outputs": [
    {
     "name": "stdout",
     "output_type": "stream",
     "text": [
      "1/1 [==============================] - 1s 1s/step\n",
      "Prediction: Cat\n"
     ]
    }
   ],
   "source": [
    "# Load and preprocess a new image for prediction\n",
    "img_path = '/kaggle/input/cat-and-dog/training_set/training_set/cats/cat.1004.jpg'\n",
    "img = tf.keras.preprocessing.image.load_img(img_path, target_size=(150, 150))\n",
    "img_array = tf.keras.preprocessing.image.img_to_array(img)\n",
    "img_array = np.expand_dims(img_array, axis=0) / 255.\n",
    "\n",
    "# Make a prediction\n",
    "prediction = model.predict(img_array)\n",
    "print('Prediction:', 'Dog' if prediction[0][0] > 0.5 else 'Cat')"
   ]
  },
  {
   "cell_type": "markdown",
   "id": "40f06cf5",
   "metadata": {
    "papermill": {
     "duration": 0.206203,
     "end_time": "2024-07-28T09:47:36.130459",
     "exception": false,
     "start_time": "2024-07-28T09:47:35.924256",
     "status": "completed"
    },
    "tags": []
   },
   "source": [
    "We've built an image classifier using a pretrained model and transfer learning. This method allows us to achieve high accuracy even with a small dataset by leveraging the knowledge from a model trained on a large dataset."
   ]
  }
 ],
 "metadata": {
  "kaggle": {
   "accelerator": "nvidiaTeslaT4",
   "dataSources": [
    {
     "datasetId": 23777,
     "sourceId": 30378,
     "sourceType": "datasetVersion"
    },
    {
     "datasetId": 5457076,
     "sourceId": 9050843,
     "sourceType": "datasetVersion"
    }
   ],
   "dockerImageVersionId": 30746,
   "isGpuEnabled": true,
   "isInternetEnabled": true,
   "language": "python",
   "sourceType": "notebook"
  },
  "kernelspec": {
   "display_name": "Python 3",
   "language": "python",
   "name": "python3"
  },
  "language_info": {
   "codemirror_mode": {
    "name": "ipython",
    "version": 3
   },
   "file_extension": ".py",
   "mimetype": "text/x-python",
   "name": "python",
   "nbconvert_exporter": "python",
   "pygments_lexer": "ipython3",
   "version": "3.10.13"
  },
  "papermill": {
   "default_parameters": {},
   "duration": 681.474457,
   "end_time": "2024-07-28T09:47:38.568182",
   "environment_variables": {},
   "exception": null,
   "input_path": "__notebook__.ipynb",
   "output_path": "__notebook__.ipynb",
   "parameters": {},
   "start_time": "2024-07-28T09:36:17.093725",
   "version": "2.5.0"
  }
 },
 "nbformat": 4,
 "nbformat_minor": 5
}
